{
 "cells": [
  {
   "cell_type": "code",
   "execution_count": 1,
   "metadata": {},
   "outputs": [],
   "source": [
    "import xarray as xr\n",
    "import distributed\n"
   ]
  },
  {
   "cell_type": "code",
   "execution_count": 2,
   "metadata": {},
   "outputs": [
    {
     "data": {
      "text/html": [
       "<table style=\"border: 2px solid white;\">\n",
       "<tr>\n",
       "<td style=\"vertical-align: top; border: 0px solid white\">\n",
       "<h3 style=\"text-align: left;\">Client</h3>\n",
       "<ul style=\"text-align: left; list-style: none; margin: 0; padding: 0;\">\n",
       "  <li><b>Scheduler: </b>tcp://127.0.0.1:34321</li>\n",
       "  <li><b>Dashboard: </b><a href='http://127.0.0.1:8787/status' target='_blank'>http://127.0.0.1:8787/status</a></li>\n",
       "</ul>\n",
       "</td>\n",
       "<td style=\"vertical-align: top; border: 0px solid white\">\n",
       "<h3 style=\"text-align: left;\">Cluster</h3>\n",
       "<ul style=\"text-align: left; list-style:none; margin: 0; padding: 0;\">\n",
       "  <li><b>Workers: </b>4</li>\n",
       "  <li><b>Cores: </b>4</li>\n",
       "  <li><b>Memory: </b>16.62 GB</li>\n",
       "</ul>\n",
       "</td>\n",
       "</tr>\n",
       "</table>"
      ],
      "text/plain": [
       "<Client: 'tcp://127.0.0.1:34321' processes=4 threads=4, memory=16.62 GB>"
      ]
     },
     "execution_count": 2,
     "metadata": {},
     "output_type": "execute_result"
    }
   ],
   "source": [
    "cluster = distributed.LocalCluster(n_workers=4, threads_per_worker=1, local_directory='/tmp')\n",
    "client = distributed.Client(cluster)\n",
    "client"
   ]
  },
  {
   "cell_type": "markdown",
   "metadata": {},
   "source": [
    "# Load IFS data"
   ]
  },
  {
   "cell_type": "code",
   "execution_count": 3,
   "metadata": {},
   "outputs": [],
   "source": [
    "ds_ifs_pl = xr.open_mfdataset('../data/raw/ifs/pl_*.nc', parallel=True, chunks={'time': 2})\n",
    "ds_ifs_sfc = xr.open_mfdataset('../data/raw/ifs/sfc_*.nc', parallel=True, chunks={'time': 2})"
   ]
  },
  {
   "cell_type": "code",
   "execution_count": 4,
   "metadata": {},
   "outputs": [],
   "source": [
    "ds_ifs_t = ds_ifs_pl['t'].to_dataset('level')\n",
    "ds_ifs_t = ds_ifs_t.rename({500: 't_500', 850: 't_850'})"
   ]
  },
  {
   "cell_type": "code",
   "execution_count": 5,
   "metadata": {},
   "outputs": [],
   "source": [
    "ds_ifs_gh = ds_ifs_pl['gh'].to_dataset('level')\n",
    "ds_ifs_gh = ds_ifs_gh.rename({500: 'gh_500', 850: 'gh_850'})"
   ]
  },
  {
   "cell_type": "code",
   "execution_count": 6,
   "metadata": {},
   "outputs": [],
   "source": [
    "ds_ifs_merged = xr.merge([ds_ifs_sfc, ds_ifs_t, ds_ifs_gh])"
   ]
  },
  {
   "cell_type": "code",
   "execution_count": 7,
   "metadata": {},
   "outputs": [],
   "source": [
    "ds_ifs_merged = ds_ifs_merged.isel(latitude=slice(None, None, -1))\n",
    "ds_ifs_merged = ds_ifs_merged.rename({'number': 'ensemble'})"
   ]
  },
  {
   "cell_type": "code",
   "execution_count": 8,
   "metadata": {},
   "outputs": [
    {
     "data": {
      "text/plain": [
       "<xarray.backends.zarr.ZarrStore at 0x7ff12fc488e0>"
      ]
     },
     "execution_count": 8,
     "metadata": {},
     "output_type": "execute_result"
    }
   ],
   "source": [
    "ds_ifs_train = ds_ifs_merged.sel(time=slice('2017-01-01 00:00', '2018-12-31 12:00'))\n",
    "ds_ifs_train.to_zarr(\n",
    "    '../data/processed/ifs/ds_train',\n",
    "    encoding={\n",
    "        't2m': {'dtype': 'float32', 'scale_factor': 1.0, 'add_offset': 0.0},\n",
    "        't_500': {'dtype': 'float32', 'scale_factor': 1.0, 'add_offset': 0.0},\n",
    "        't_850': {'dtype': 'float32', 'scale_factor': 1.0, 'add_offset': 0.0},\n",
    "        'gh_500': {'dtype': 'float32', 'scale_factor': 1.0, 'add_offset': 0.0},\n",
    "        'gh_850': {'dtype': 'float32', 'scale_factor': 1.0, 'add_offset': 0.0},\n",
    "    }\n",
    ")"
   ]
  },
  {
   "cell_type": "code",
   "execution_count": 9,
   "metadata": {},
   "outputs": [
    {
     "data": {
      "text/plain": [
       "<xarray.backends.zarr.ZarrStore at 0x7ff148386a00>"
      ]
     },
     "execution_count": 9,
     "metadata": {},
     "output_type": "execute_result"
    }
   ],
   "source": [
    "ds_ifs_test = ds_ifs_merged.sel(time=slice('2019-01-01 00:00', '2019-12-31 12:00'))\n",
    "ds_ifs_test.to_zarr(\n",
    "    '../data/processed/ifs/ds_test',\n",
    "    encoding={\n",
    "        't2m': {'dtype': 'float32', 'scale_factor': 1.0, 'add_offset': 0.0},\n",
    "        't_500': {'dtype': 'float32', 'scale_factor': 1.0, 'add_offset': 0.0},\n",
    "        't_850': {'dtype': 'float32', 'scale_factor': 1.0, 'add_offset': 0.0},\n",
    "        'gh_500': {'dtype': 'float32', 'scale_factor': 1.0, 'add_offset': 0.0},\n",
    "        'gh_850': {'dtype': 'float32', 'scale_factor': 1.0, 'add_offset': 0.0},\n",
    "    }\n",
    ")"
   ]
  }
 ],
 "metadata": {
  "kernelspec": {
   "display_name": "Python [conda env:pytassim-dev]",
   "language": "python",
   "name": "conda-env-pytassim-dev-py"
  },
  "language_info": {
   "codemirror_mode": {
    "name": "ipython",
    "version": 3
   },
   "file_extension": ".py",
   "mimetype": "text/x-python",
   "name": "python",
   "nbconvert_exporter": "python",
   "pygments_lexer": "ipython3",
   "version": "3.8.5"
  }
 },
 "nbformat": 4,
 "nbformat_minor": 4
}