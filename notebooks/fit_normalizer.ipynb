{
 "cells": [
  {
   "cell_type": "code",
   "execution_count": null,
   "metadata": {},
   "outputs": [],
   "source": [
    "import torch\n",
    "import pytorch_lightning as pl\n",
    "from ens_transformer.transforms import to_tensor, Normalizer\n",
    "from ens_transformer.data_module import IFSERADataModule\n",
    "\n",
    "from tqdm.notebook import tqdm"
   ]
  },
  {
   "cell_type": "code",
   "execution_count": null,
   "metadata": {},
   "outputs": [],
   "source": [
    "pl.seed_everything(seed=42)"
   ]
  },
  {
   "cell_type": "code",
   "execution_count": null,
   "metadata": {},
   "outputs": [],
   "source": [
    "data_module = IFSERADataModule(include_vars=['t2m', 't_850', 'gh_500'])\n",
    "data_module.setup()"
   ]
  },
  {
   "cell_type": "code",
   "execution_count": null,
   "metadata": {},
   "outputs": [],
   "source": [
    "rolling_sum = dict()\n",
    "rolling_squared_sum = dict()\n",
    "rolling_elems = 0"
   ]
  },
  {
   "cell_type": "code",
   "execution_count": null,
   "metadata": {},
   "outputs": [],
   "source": [
    "for ifs_data, era_data in tqdm(data_module.train_dataloader(), total=len(data_module.train_dataloader())):\n",
    "    ifs_mean = ifs_data.mean(dim=(1, 3, 4), keepdim=True).sum(dim=0, keepdim=True)\n",
    "    ifs_squared_mean = ifs_data.pow(2).mean(dim=(1, 3, 4), keepdim=True).sum(dim=0, keepdim=True)\n",
    "    era_mean = era_data.mean(dim=(1, 2, 3), keepdim=True).sum(dim=0, keepdim=True)\n",
    "    era_squared_mean = era_data.pow(2).mean(dim=(1, 2, 3), keepdim=True).sum(dim=0, keepdim=True)\n",
    "    try:\n",
    "        rolling_sum['ifs'] = rolling_sum['ifs']+ifs_mean\n",
    "        rolling_squared_sum['ifs'] = rolling_squared_sum['ifs']+ifs_squared_mean\n",
    "        rolling_sum['era'] = rolling_sum['era']+era_mean\n",
    "        rolling_squared_sum['era'] = rolling_squared_sum['era']+era_squared_mean\n",
    "    except:\n",
    "        rolling_sum['ifs'] = ifs_mean\n",
    "        rolling_squared_sum['ifs'] = ifs_squared_mean\n",
    "        rolling_sum['era'] = era_mean\n",
    "        rolling_squared_sum['era'] = era_squared_mean\n",
    "    rolling_elems += ifs_data.shape[0]"
   ]
  },
  {
   "cell_type": "code",
   "execution_count": null,
   "metadata": {},
   "outputs": [],
   "source": [
    "mean_values = {k: v / rolling_elems for k, v in rolling_sum.items()}\n",
    "stddev_values = {k: (v / rolling_elems - mean_values[k].pow(2)).sqrt() for k, v in rolling_squared_sum.items()}"
   ]
  },
  {
   "cell_type": "code",
   "execution_count": null,
   "metadata": {},
   "outputs": [],
   "source": [
    "normalizers = {\n",
    "    'ifs': Normalizer(mean=mean_values['ifs'], std=stddev_values['ifs']),\n",
    "    'era': Normalizer(mean=mean_values['era'], std=stddev_values['era']),\n",
    "}"
   ]
  },
  {
   "cell_type": "code",
   "execution_count": null,
   "metadata": {},
   "outputs": [],
   "source": [
    "torch.save(normalizers, f='../data/interim/normalizers.pt')"
   ]
  }
 ],
 "metadata": {
  "kernelspec": {
   "display_name": "Python [conda env:ensemble_transformer]",
   "language": "python",
   "name": "conda-env-ensemble_transformer-py"
  },
  "language_info": {
   "codemirror_mode": {
    "name": "ipython",
    "version": 3
   },
   "file_extension": ".py",
   "mimetype": "text/x-python",
   "name": "python",
   "nbconvert_exporter": "python",
   "pygments_lexer": "ipython3",
   "version": "3.8.5"
  }
 },
 "nbformat": 4,
 "nbformat_minor": 4
}
