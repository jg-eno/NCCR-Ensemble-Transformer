{
 "cells": [
  {
   "cell_type": "code",
   "execution_count": 3,
   "metadata": {},
   "outputs": [],
   "source": [
    "import logging\n",
    "import os.path\n",
    "import argparse\n",
    "from typing import Any, Union\n",
    "\n",
    "# External modules\n",
    "import xarray as xr\n",
    "import numpy as np\n",
    "from tqdm import tqdm\n",
    "\n",
    "# Internal modules\n",
    "\n",
    "def get_regridder(\n",
    "        grid_in: xr.Dataset, out_res: float, method='bilinear'\n",
    ") -> Any:\n",
    "    import xesmf as xe\n",
    "    grid_out = xr.Dataset(\n",
    "        {\n",
    "            'lat': (['lat'], np.arange(-90+out_res/2, 90, out_res)),\n",
    "            'lon': (['lon'], np.arange(0, 360, out_res)),\n",
    "        }\n",
    "    )\n",
    "    regridder = xe.Regridder(grid_in, grid_out, method=method,\n",
    "                             periodic=True, reuse_weights=False)\n",
    "    return regridder\n",
    "\n",
    "\n",
    "def _regrid_loop(\n",
    "        regridder: Any,\n",
    "        ds: xr.Dataset,\n",
    "        chunk_size: Union[int, None] = None\n",
    ") -> xr.Dataset:\n",
    "    if chunk_size is None:\n",
    "        chunk_size = len(ds['time'])\n",
    "    ds_regridded = []\n",
    "    regrid_pbar = tqdm(range(0, len(ds['time']), chunk_size))\n",
    "    for chunk in regrid_pbar:\n",
    "        tmp_regridded = regridder(\n",
    "            ds.isel(time=slice(chunk, chunk+chunk_size))\n",
    "        )\n",
    "        ds_regridded.append(tmp_regridded)\n",
    "    ds_regridded = xr.concat(ds_regridded, dim='time')\n",
    "    for var in ds_regridded:\n",
    "        ds_regridded[var].attrs = ds[var].attrs\n",
    "    ds_regridded.attrs = ds.attrs\n",
    "    return ds_regridded\n",
    "\n",
    "\n",
    "def regrid_ds(\n",
    "        ds_ens: Union[xr.Dataset, None],\n",
    "        chunk_size: Union[int, None] = None\n",
    ") -> Union[xr.Dataset, None]:\n",
    "    if ds_ens is not None:\n",
    "        grid_in = ds_ens[['lat', 'lon']]\n",
    "        regridder = get_regridder(grid_in, out_res=5.625)\n",
    "        ds_regridded = _regrid_loop(regridder, ds_ens, chunk_size)\n",
    "    else:\n",
    "        ds_regridded = None\n",
    "    return ds_regridded"
   ]
  },
  {
   "cell_type": "code",
   "execution_count": 2,
   "metadata": {},
   "outputs": [
    {
     "ename": "ImportError",
     "evalue": "Numba could not be imported.\n--------------------------------------------------------------------------------\nIf you are seeing this message and are undertaking Numba development work, you may need to rebuild Numba.\nPlease see the development set up guide:\n\nhttps://numba.readthedocs.io/en/stable/developer/contributing.html.\n\n--------------------------------------------------------------------------------\nIf you are not working on Numba development, the original error was: 'cannot import name '_typeconv' from 'numba.core.typeconv' (c:\\Users\\haris\\miniconda3\\envs\\ens\\lib\\site-packages\\numba\\core\\typeconv\\__init__.py)'.\nFor help, please visit:\n\nhttps://numba.readthedocs.io/en/stable/user/faq.html#numba-could-not-be-imported\n",
     "output_type": "error",
     "traceback": [
      "\u001b[1;31m---------------------------------------------------------------------------\u001b[0m",
      "\u001b[1;31mImportError\u001b[0m                               Traceback (most recent call last)",
      "File \u001b[1;32mc:\\Users\\haris\\miniconda3\\envs\\ens\\lib\\site-packages\\numba\\core\\typeconv\\typeconv.py:4\u001b[0m\n\u001b[0;32m      1\u001b[0m \u001b[38;5;28;01mtry\u001b[39;00m:\n\u001b[0;32m      2\u001b[0m     \u001b[38;5;66;03m# This is usually the the first C extension import performed when importing\u001b[39;00m\n\u001b[0;32m      3\u001b[0m     \u001b[38;5;66;03m# Numba, if it fails to import, provide some feedback\u001b[39;00m\n\u001b[1;32m----> 4\u001b[0m     \u001b[38;5;28;01mfrom\u001b[39;00m \u001b[38;5;21;01mnumba\u001b[39;00m\u001b[38;5;21;01m.\u001b[39;00m\u001b[38;5;21;01mcore\u001b[39;00m\u001b[38;5;21;01m.\u001b[39;00m\u001b[38;5;21;01mtypeconv\u001b[39;00m \u001b[38;5;28;01mimport\u001b[39;00m _typeconv\n\u001b[0;32m      5\u001b[0m \u001b[38;5;28;01mexcept\u001b[39;00m \u001b[38;5;167;01mImportError\u001b[39;00m \u001b[38;5;28;01mas\u001b[39;00m e:\n",
      "\u001b[1;31mImportError\u001b[0m: cannot import name '_typeconv' from 'numba.core.typeconv' (c:\\Users\\haris\\miniconda3\\envs\\ens\\lib\\site-packages\\numba\\core\\typeconv\\__init__.py)",
      "\nDuring handling of the above exception, another exception occurred:\n",
      "\u001b[1;31mImportError\u001b[0m                               Traceback (most recent call last)",
      "Cell \u001b[1;32mIn[2], line 1\u001b[0m\n\u001b[1;32m----> 1\u001b[0m \u001b[38;5;28;01mimport\u001b[39;00m \u001b[38;5;21;01mxesmf\u001b[39;00m\n",
      "File \u001b[1;32mc:\\Users\\haris\\miniconda3\\envs\\ens\\lib\\site-packages\\xesmf\\__init__.py:4\u001b[0m\n\u001b[0;32m      1\u001b[0m \u001b[38;5;66;03m# flake8: noqa\u001b[39;00m\n\u001b[0;32m      3\u001b[0m \u001b[38;5;28;01mfrom\u001b[39;00m \u001b[38;5;21;01m.\u001b[39;00m \u001b[38;5;28;01mimport\u001b[39;00m data, util\n\u001b[1;32m----> 4\u001b[0m \u001b[38;5;28;01mfrom\u001b[39;00m \u001b[38;5;21;01m.\u001b[39;00m\u001b[38;5;21;01mfrontend\u001b[39;00m \u001b[38;5;28;01mimport\u001b[39;00m Regridder, SpatialAverager\n\u001b[0;32m      6\u001b[0m \u001b[38;5;28;01mtry\u001b[39;00m:\n\u001b[0;32m      7\u001b[0m     \u001b[38;5;28;01mfrom\u001b[39;00m \u001b[38;5;21;01m.\u001b[39;00m\u001b[38;5;21;01m_version\u001b[39;00m \u001b[38;5;28;01mimport\u001b[39;00m __version__\n",
      "File \u001b[1;32mc:\\Users\\haris\\miniconda3\\envs\\ens\\lib\\site-packages\\xesmf\\frontend.py:9\u001b[0m\n\u001b[0;32m      7\u001b[0m \u001b[38;5;28;01mimport\u001b[39;00m \u001b[38;5;21;01mcf_xarray\u001b[39;00m \u001b[38;5;28;01mas\u001b[39;00m \u001b[38;5;21;01mcfxr\u001b[39;00m\n\u001b[0;32m      8\u001b[0m \u001b[38;5;28;01mimport\u001b[39;00m \u001b[38;5;21;01mnumpy\u001b[39;00m \u001b[38;5;28;01mas\u001b[39;00m \u001b[38;5;21;01mnp\u001b[39;00m\n\u001b[1;32m----> 9\u001b[0m \u001b[38;5;28;01mimport\u001b[39;00m \u001b[38;5;21;01msparse\u001b[39;00m \u001b[38;5;28;01mas\u001b[39;00m \u001b[38;5;21;01msps\u001b[39;00m\n\u001b[0;32m     10\u001b[0m \u001b[38;5;28;01mimport\u001b[39;00m \u001b[38;5;21;01mxarray\u001b[39;00m \u001b[38;5;28;01mas\u001b[39;00m \u001b[38;5;21;01mxr\u001b[39;00m\n\u001b[0;32m     11\u001b[0m \u001b[38;5;28;01mfrom\u001b[39;00m \u001b[38;5;21;01mshapely\u001b[39;00m\u001b[38;5;21;01m.\u001b[39;00m\u001b[38;5;21;01mgeometry\u001b[39;00m \u001b[38;5;28;01mimport\u001b[39;00m LineString\n",
      "File \u001b[1;32mc:\\Users\\haris\\miniconda3\\envs\\ens\\lib\\site-packages\\sparse\\__init__.py:77\u001b[0m\n\u001b[0;32m     74\u001b[0m \u001b[38;5;28;01mfrom\u001b[39;00m \u001b[38;5;21;01mnumpy\u001b[39;00m \u001b[38;5;28;01mimport\u001b[39;00m power \u001b[38;5;28;01mas\u001b[39;00m \u001b[38;5;28mpow\u001b[39m\n\u001b[0;32m     75\u001b[0m \u001b[38;5;28;01mfrom\u001b[39;00m \u001b[38;5;21;01mnumpy\u001b[39;00m \u001b[38;5;28;01mimport\u001b[39;00m right_shift \u001b[38;5;28;01mas\u001b[39;00m bitwise_right_shift\n\u001b[1;32m---> 77\u001b[0m \u001b[38;5;28;01mfrom\u001b[39;00m \u001b[38;5;21;01m.\u001b[39;00m\u001b[38;5;21;01m_common\u001b[39;00m \u001b[38;5;28;01mimport\u001b[39;00m (\n\u001b[0;32m     78\u001b[0m     SparseArray,\n\u001b[0;32m     79\u001b[0m     \u001b[38;5;28mabs\u001b[39m,\n\u001b[0;32m     80\u001b[0m     \u001b[38;5;28mall\u001b[39m,\n\u001b[0;32m     81\u001b[0m     \u001b[38;5;28many\u001b[39m,\n\u001b[0;32m     82\u001b[0m     asarray,\n\u001b[0;32m     83\u001b[0m     asnumpy,\n\u001b[0;32m     84\u001b[0m     astype,\n\u001b[0;32m     85\u001b[0m     broadcast_arrays,\n\u001b[0;32m     86\u001b[0m     broadcast_to,\n\u001b[0;32m     87\u001b[0m     concat,\n\u001b[0;32m     88\u001b[0m     concatenate,\n\u001b[0;32m     89\u001b[0m     dot,\n\u001b[0;32m     90\u001b[0m     einsum,\n\u001b[0;32m     91\u001b[0m     empty,\n\u001b[0;32m     92\u001b[0m     empty_like,\n\u001b[0;32m     93\u001b[0m     equal,\n\u001b[0;32m     94\u001b[0m     eye,\n\u001b[0;32m     95\u001b[0m     full,\n\u001b[0;32m     96\u001b[0m     full_like,\n\u001b[0;32m     97\u001b[0m     isfinite,\n\u001b[0;32m     98\u001b[0m     isinf,\n\u001b[0;32m     99\u001b[0m     isnan,\n\u001b[0;32m    100\u001b[0m     matmul,\n\u001b[0;32m    101\u001b[0m     \u001b[38;5;28mmax\u001b[39m,\n\u001b[0;32m    102\u001b[0m     mean,\n\u001b[0;32m    103\u001b[0m     \u001b[38;5;28mmin\u001b[39m,\n\u001b[0;32m    104\u001b[0m     moveaxis,\n\u001b[0;32m    105\u001b[0m     nonzero,\n\u001b[0;32m    106\u001b[0m     ones,\n\u001b[0;32m    107\u001b[0m     ones_like,\n\u001b[0;32m    108\u001b[0m     outer,\n\u001b[0;32m    109\u001b[0m     pad,\n\u001b[0;32m    110\u001b[0m     permute_dims,\n\u001b[0;32m    111\u001b[0m     prod,\n\u001b[0;32m    112\u001b[0m     reshape,\n\u001b[0;32m    113\u001b[0m     \u001b[38;5;28mround\u001b[39m,\n\u001b[0;32m    114\u001b[0m     squeeze,\n\u001b[0;32m    115\u001b[0m     stack,\n\u001b[0;32m    116\u001b[0m     std,\n\u001b[0;32m    117\u001b[0m     \u001b[38;5;28msum\u001b[39m,\n\u001b[0;32m    118\u001b[0m     tensordot,\n\u001b[0;32m    119\u001b[0m     zeros,\n\u001b[0;32m    120\u001b[0m     zeros_like,\n\u001b[0;32m    121\u001b[0m )\n\u001b[0;32m    122\u001b[0m \u001b[38;5;28;01mfrom\u001b[39;00m \u001b[38;5;21;01m.\u001b[39;00m\u001b[38;5;21;01m_compressed\u001b[39;00m \u001b[38;5;28;01mimport\u001b[39;00m GCXS\n\u001b[0;32m    123\u001b[0m \u001b[38;5;28;01mfrom\u001b[39;00m \u001b[38;5;21;01m.\u001b[39;00m\u001b[38;5;21;01m_coo\u001b[39;00m \u001b[38;5;28;01mimport\u001b[39;00m COO, as_coo\n",
      "File \u001b[1;32mc:\\Users\\haris\\miniconda3\\envs\\ens\\lib\\site-packages\\sparse\\_common.py:8\u001b[0m\n\u001b[0;32m      5\u001b[0m \u001b[38;5;28;01mfrom\u001b[39;00m \u001b[38;5;21;01mitertools\u001b[39;00m \u001b[38;5;28;01mimport\u001b[39;00m chain\n\u001b[0;32m      6\u001b[0m \u001b[38;5;28;01mfrom\u001b[39;00m \u001b[38;5;21;01moperator\u001b[39;00m \u001b[38;5;28;01mimport\u001b[39;00m index, mul\n\u001b[1;32m----> 8\u001b[0m \u001b[38;5;28;01mimport\u001b[39;00m \u001b[38;5;21;01mnumba\u001b[39;00m\n\u001b[0;32m      9\u001b[0m \u001b[38;5;28;01mfrom\u001b[39;00m \u001b[38;5;21;01mnumba\u001b[39;00m \u001b[38;5;28;01mimport\u001b[39;00m literal_unroll\n\u001b[0;32m     11\u001b[0m \u001b[38;5;28;01mimport\u001b[39;00m \u001b[38;5;21;01mnumpy\u001b[39;00m \u001b[38;5;28;01mas\u001b[39;00m \u001b[38;5;21;01mnp\u001b[39;00m\n",
      "File \u001b[1;32mc:\\Users\\haris\\miniconda3\\envs\\ens\\lib\\site-packages\\numba\\__init__.py:73\u001b[0m\n\u001b[0;32m     70\u001b[0m \u001b[38;5;28;01mfrom\u001b[39;00m \u001b[38;5;21;01mnumba\u001b[39;00m\u001b[38;5;21;01m.\u001b[39;00m\u001b[38;5;21;01mcore\u001b[39;00m \u001b[38;5;28;01mimport\u001b[39;00m types, errors\n\u001b[0;32m     72\u001b[0m \u001b[38;5;66;03m# Re-export typeof\u001b[39;00m\n\u001b[1;32m---> 73\u001b[0m \u001b[38;5;28;01mfrom\u001b[39;00m \u001b[38;5;21;01mnumba\u001b[39;00m\u001b[38;5;21;01m.\u001b[39;00m\u001b[38;5;21;01mmisc\u001b[39;00m\u001b[38;5;21;01m.\u001b[39;00m\u001b[38;5;21;01mspecial\u001b[39;00m \u001b[38;5;28;01mimport\u001b[39;00m (\n\u001b[0;32m     74\u001b[0m     typeof, prange, pndindex, gdb, gdb_breakpoint, gdb_init,\n\u001b[0;32m     75\u001b[0m     literally, literal_unroll,\n\u001b[0;32m     76\u001b[0m )\n\u001b[0;32m     78\u001b[0m \u001b[38;5;66;03m# Re-export error classes\u001b[39;00m\n\u001b[0;32m     79\u001b[0m \u001b[38;5;28;01mfrom\u001b[39;00m \u001b[38;5;21;01mnumba\u001b[39;00m\u001b[38;5;21;01m.\u001b[39;00m\u001b[38;5;21;01mcore\u001b[39;00m\u001b[38;5;21;01m.\u001b[39;00m\u001b[38;5;21;01merrors\u001b[39;00m \u001b[38;5;28;01mimport\u001b[39;00m \u001b[38;5;241m*\u001b[39m\n",
      "File \u001b[1;32mc:\\Users\\haris\\miniconda3\\envs\\ens\\lib\\site-packages\\numba\\misc\\special.py:3\u001b[0m\n\u001b[0;32m      1\u001b[0m \u001b[38;5;28;01mimport\u001b[39;00m \u001b[38;5;21;01mnumpy\u001b[39;00m \u001b[38;5;28;01mas\u001b[39;00m \u001b[38;5;21;01mnp\u001b[39;00m\n\u001b[1;32m----> 3\u001b[0m \u001b[38;5;28;01mfrom\u001b[39;00m \u001b[38;5;21;01mnumba\u001b[39;00m\u001b[38;5;21;01m.\u001b[39;00m\u001b[38;5;21;01mcore\u001b[39;00m\u001b[38;5;21;01m.\u001b[39;00m\u001b[38;5;21;01mtyping\u001b[39;00m\u001b[38;5;21;01m.\u001b[39;00m\u001b[38;5;21;01mtypeof\u001b[39;00m \u001b[38;5;28;01mimport\u001b[39;00m typeof\n\u001b[0;32m      4\u001b[0m \u001b[38;5;28;01mfrom\u001b[39;00m \u001b[38;5;21;01mnumba\u001b[39;00m\u001b[38;5;21;01m.\u001b[39;00m\u001b[38;5;21;01mcore\u001b[39;00m\u001b[38;5;21;01m.\u001b[39;00m\u001b[38;5;21;01mtyping\u001b[39;00m\u001b[38;5;21;01m.\u001b[39;00m\u001b[38;5;21;01masnumbatype\u001b[39;00m \u001b[38;5;28;01mimport\u001b[39;00m as_numba_type\n\u001b[0;32m      7\u001b[0m \u001b[38;5;28;01mdef\u001b[39;00m \u001b[38;5;21mpndindex\u001b[39m(\u001b[38;5;241m*\u001b[39margs):\n",
      "File \u001b[1;32mc:\\Users\\haris\\miniconda3\\envs\\ens\\lib\\site-packages\\numba\\core\\typing\\__init__.py:1\u001b[0m\n\u001b[1;32m----> 1\u001b[0m \u001b[38;5;28;01mfrom\u001b[39;00m \u001b[38;5;21;01m.\u001b[39;00m\u001b[38;5;21;01mcontext\u001b[39;00m \u001b[38;5;28;01mimport\u001b[39;00m BaseContext, Context\n\u001b[0;32m      2\u001b[0m \u001b[38;5;28;01mfrom\u001b[39;00m \u001b[38;5;21;01m.\u001b[39;00m\u001b[38;5;21;01mtemplates\u001b[39;00m \u001b[38;5;28;01mimport\u001b[39;00m (signature, make_concrete_template, Signature,\n\u001b[0;32m      3\u001b[0m                         fold_arguments)\n",
      "File \u001b[1;32mc:\\Users\\haris\\miniconda3\\envs\\ens\\lib\\site-packages\\numba\\core\\typing\\context.py:11\u001b[0m\n\u001b[0;32m      9\u001b[0m \u001b[38;5;28;01mimport\u001b[39;00m \u001b[38;5;21;01mnumba\u001b[39;00m\n\u001b[0;32m     10\u001b[0m \u001b[38;5;28;01mfrom\u001b[39;00m \u001b[38;5;21;01mnumba\u001b[39;00m\u001b[38;5;21;01m.\u001b[39;00m\u001b[38;5;21;01mcore\u001b[39;00m \u001b[38;5;28;01mimport\u001b[39;00m types, errors\n\u001b[1;32m---> 11\u001b[0m \u001b[38;5;28;01mfrom\u001b[39;00m \u001b[38;5;21;01mnumba\u001b[39;00m\u001b[38;5;21;01m.\u001b[39;00m\u001b[38;5;21;01mcore\u001b[39;00m\u001b[38;5;21;01m.\u001b[39;00m\u001b[38;5;21;01mtypeconv\u001b[39;00m \u001b[38;5;28;01mimport\u001b[39;00m Conversion, rules\n\u001b[0;32m     12\u001b[0m \u001b[38;5;28;01mfrom\u001b[39;00m \u001b[38;5;21;01mnumba\u001b[39;00m\u001b[38;5;21;01m.\u001b[39;00m\u001b[38;5;21;01mcore\u001b[39;00m\u001b[38;5;21;01m.\u001b[39;00m\u001b[38;5;21;01mtyping\u001b[39;00m \u001b[38;5;28;01mimport\u001b[39;00m templates\n\u001b[0;32m     13\u001b[0m \u001b[38;5;28;01mfrom\u001b[39;00m \u001b[38;5;21;01mnumba\u001b[39;00m\u001b[38;5;21;01m.\u001b[39;00m\u001b[38;5;21;01mcore\u001b[39;00m\u001b[38;5;21;01m.\u001b[39;00m\u001b[38;5;21;01mutils\u001b[39;00m \u001b[38;5;28;01mimport\u001b[39;00m order_by_target_specificity\n",
      "File \u001b[1;32mc:\\Users\\haris\\miniconda3\\envs\\ens\\lib\\site-packages\\numba\\core\\typeconv\\rules.py:2\u001b[0m\n\u001b[0;32m      1\u001b[0m \u001b[38;5;28;01mimport\u001b[39;00m \u001b[38;5;21;01mitertools\u001b[39;00m\n\u001b[1;32m----> 2\u001b[0m \u001b[38;5;28;01mfrom\u001b[39;00m \u001b[38;5;21;01m.\u001b[39;00m\u001b[38;5;21;01mtypeconv\u001b[39;00m \u001b[38;5;28;01mimport\u001b[39;00m TypeManager, TypeCastingRules\n\u001b[0;32m      3\u001b[0m \u001b[38;5;28;01mfrom\u001b[39;00m \u001b[38;5;21;01mnumba\u001b[39;00m\u001b[38;5;21;01m.\u001b[39;00m\u001b[38;5;21;01mcore\u001b[39;00m \u001b[38;5;28;01mimport\u001b[39;00m types\n\u001b[0;32m      6\u001b[0m default_type_manager \u001b[38;5;241m=\u001b[39m TypeManager()\n",
      "File \u001b[1;32mc:\\Users\\haris\\miniconda3\\envs\\ens\\lib\\site-packages\\numba\\core\\typeconv\\typeconv.py:16\u001b[0m\n\u001b[0;32m      9\u001b[0m     dashes \u001b[38;5;241m=\u001b[39m \u001b[38;5;124m'\u001b[39m\u001b[38;5;124m-\u001b[39m\u001b[38;5;124m'\u001b[39m \u001b[38;5;241m*\u001b[39m \u001b[38;5;241m80\u001b[39m\n\u001b[0;32m     10\u001b[0m     msg \u001b[38;5;241m=\u001b[39m (\u001b[38;5;124mf\u001b[39m\u001b[38;5;124m\"\u001b[39m\u001b[38;5;124mNumba could not be imported.\u001b[39m\u001b[38;5;130;01m\\n\u001b[39;00m\u001b[38;5;132;01m{\u001b[39;00mdashes\u001b[38;5;132;01m}\u001b[39;00m\u001b[38;5;130;01m\\n\u001b[39;00m\u001b[38;5;124mIf you are seeing this \u001b[39m\u001b[38;5;124m\"\u001b[39m\n\u001b[0;32m     11\u001b[0m            \u001b[38;5;124m\"\u001b[39m\u001b[38;5;124mmessage and are undertaking Numba development work, you may need \u001b[39m\u001b[38;5;124m\"\u001b[39m\n\u001b[0;32m     12\u001b[0m            \u001b[38;5;124m\"\u001b[39m\u001b[38;5;124mto rebuild Numba.\u001b[39m\u001b[38;5;130;01m\\n\u001b[39;00m\u001b[38;5;124mPlease see the development set up guide:\u001b[39m\u001b[38;5;130;01m\\n\u001b[39;00m\u001b[38;5;130;01m\\n\u001b[39;00m\u001b[38;5;124m\"\u001b[39m\n\u001b[0;32m     13\u001b[0m            \u001b[38;5;124mf\u001b[39m\u001b[38;5;124m\"\u001b[39m\u001b[38;5;132;01m{\u001b[39;00mdev_url\u001b[38;5;132;01m}\u001b[39;00m\u001b[38;5;124m.\u001b[39m\u001b[38;5;130;01m\\n\u001b[39;00m\u001b[38;5;130;01m\\n\u001b[39;00m\u001b[38;5;132;01m{\u001b[39;00mdashes\u001b[38;5;132;01m}\u001b[39;00m\u001b[38;5;130;01m\\n\u001b[39;00m\u001b[38;5;124mIf you are not working on Numba \u001b[39m\u001b[38;5;124m\"\u001b[39m\n\u001b[0;32m     14\u001b[0m            \u001b[38;5;124mf\u001b[39m\u001b[38;5;124m\"\u001b[39m\u001b[38;5;124mdevelopment, the original error was: \u001b[39m\u001b[38;5;124m'\u001b[39m\u001b[38;5;132;01m{\u001b[39;00m\u001b[38;5;28mstr\u001b[39m(e)\u001b[38;5;132;01m}\u001b[39;00m\u001b[38;5;124m'\u001b[39m\u001b[38;5;124m.\u001b[39m\u001b[38;5;130;01m\\n\u001b[39;00m\u001b[38;5;124mFor help, \u001b[39m\u001b[38;5;124m\"\u001b[39m\n\u001b[0;32m     15\u001b[0m            \u001b[38;5;124mf\u001b[39m\u001b[38;5;124m\"\u001b[39m\u001b[38;5;124mplease visit:\u001b[39m\u001b[38;5;130;01m\\n\u001b[39;00m\u001b[38;5;130;01m\\n\u001b[39;00m\u001b[38;5;132;01m{\u001b[39;00muser_url\u001b[38;5;132;01m}\u001b[39;00m\u001b[38;5;130;01m\\n\u001b[39;00m\u001b[38;5;124m\"\u001b[39m)\n\u001b[1;32m---> 16\u001b[0m     \u001b[38;5;28;01mraise\u001b[39;00m \u001b[38;5;167;01mImportError\u001b[39;00m(msg)\n\u001b[0;32m     18\u001b[0m \u001b[38;5;28;01mfrom\u001b[39;00m \u001b[38;5;21;01mnumba\u001b[39;00m\u001b[38;5;21;01m.\u001b[39;00m\u001b[38;5;21;01mcore\u001b[39;00m\u001b[38;5;21;01m.\u001b[39;00m\u001b[38;5;21;01mtypeconv\u001b[39;00m \u001b[38;5;28;01mimport\u001b[39;00m castgraph, Conversion\n\u001b[0;32m     19\u001b[0m \u001b[38;5;28;01mfrom\u001b[39;00m \u001b[38;5;21;01mnumba\u001b[39;00m\u001b[38;5;21;01m.\u001b[39;00m\u001b[38;5;21;01mcore\u001b[39;00m \u001b[38;5;28;01mimport\u001b[39;00m types\n",
      "\u001b[1;31mImportError\u001b[0m: Numba could not be imported.\n--------------------------------------------------------------------------------\nIf you are seeing this message and are undertaking Numba development work, you may need to rebuild Numba.\nPlease see the development set up guide:\n\nhttps://numba.readthedocs.io/en/stable/developer/contributing.html.\n\n--------------------------------------------------------------------------------\nIf you are not working on Numba development, the original error was: 'cannot import name '_typeconv' from 'numba.core.typeconv' (c:\\Users\\haris\\miniconda3\\envs\\ens\\lib\\site-packages\\numba\\core\\typeconv\\__init__.py)'.\nFor help, please visit:\n\nhttps://numba.readthedocs.io/en/stable/user/faq.html#numba-could-not-be-imported\n"
     ]
    }
   ],
   "source": [
    "import xesmf"
   ]
  },
  {
   "cell_type": "code",
   "execution_count": null,
   "metadata": {},
   "outputs": [],
   "source": []
  }
 ],
 "metadata": {
  "kernelspec": {
   "display_name": "ens",
   "language": "python",
   "name": "python3"
  },
  "language_info": {
   "codemirror_mode": {
    "name": "ipython",
    "version": 3
   },
   "file_extension": ".py",
   "mimetype": "text/x-python",
   "name": "python",
   "nbconvert_exporter": "python",
   "pygments_lexer": "ipython3",
   "version": "3.8.19"
  }
 },
 "nbformat": 4,
 "nbformat_minor": 2
}
