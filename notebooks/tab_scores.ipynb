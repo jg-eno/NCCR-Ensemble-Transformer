{
 "cells": [
  {
   "cell_type": "code",
   "execution_count": 1,
   "metadata": {},
   "outputs": [],
   "source": [
    "import xarray as xr\n",
    "import numpy as np\n",
    "import torch\n",
    "import pandas as pd\n",
    "\n",
    "from ens_transformer.data_module import IFSERADataModule\n",
    "from ens_transformer.measures import crps_loss, WeightedScore"
   ]
  },
  {
   "cell_type": "code",
   "execution_count": 2,
   "metadata": {},
   "outputs": [],
   "source": [
    "metrics = {\n",
    "    'crps': WeightedScore(\n",
    "        lambda prediction, target: crps_loss(\n",
    "            prediction[0], prediction[1], target\n",
    "        ),\n",
    "    ),\n",
    "    'mse': WeightedScore(\n",
    "        lambda prediction, target: (prediction[0]-target).pow(2),\n",
    "    ),\n",
    "    'var': WeightedScore(\n",
    "        lambda prediction, target: prediction[1].pow(2),\n",
    "    )\n",
    "}"
   ]
  },
  {
   "cell_type": "code",
   "execution_count": 3,
   "metadata": {},
   "outputs": [],
   "source": [
    "data_module = IFSERADataModule(pin_memory=False)"
   ]
  },
  {
   "cell_type": "code",
   "execution_count": 4,
   "metadata": {},
   "outputs": [],
   "source": [
    "data_module.setup()"
   ]
  },
  {
   "cell_type": "code",
   "execution_count": 5,
   "metadata": {},
   "outputs": [],
   "source": [
    "prediction_paths = {\n",
    "    'Transformer (10)': '../data/processed/prediction/subsampling/transformer_1_10.nc',\n",
    "    'Transformer (20)': '../data/processed/prediction/subsampling/transformer_1_20.nc',\n",
    "    'Transformer (50)': '../data/processed/prediction/subsampling/transformer_1_50.nc',\n",
    "    'PPNN (0)': '../data/processed/prediction/baseline_scale/ppnn_0_20.nc',\n",
    "    'PPNN (1)': '../data/processed/prediction/baseline_scale/ppnn_1_20.nc',\n",
    "    'PPNN (5)': '../data/processed/prediction/baseline_scale/ppnn_5_20.nc',\n",
    "    'Direct (1)': '../data/processed/prediction/baseline_scale/direct_1_20.nc',\n",
    "    'Direct (5)': '../data/processed/prediction/baseline_scale/direct_5_20.nc',\n",
    "    'Transformer (1)': '../data/processed/prediction/transformer_scale/transformer_1_20.nc',\n",
    "    'Transformer (2)': '../data/processed/prediction/transformer_scale/transformer_2_20.nc',\n",
    "    'Transformer (3)': '../data/processed/prediction/transformer_scale/transformer_3_20.nc',\n",
    "    'Transformer (4)': '../data/processed/prediction/transformer_scale/transformer_4_20.nc',\n",
    "    'Transformer (5)': '../data/processed/prediction/transformer_scale/transformer_5_20.nc',\n",
    "}"
   ]
  },
  {
   "cell_type": "code",
   "execution_count": 6,
   "metadata": {},
   "outputs": [],
   "source": [
    "xr_pred = {pred_name: xr.open_dataset(pred_path) for pred_name, pred_path in prediction_paths.items()}"
   ]
  },
  {
   "cell_type": "code",
   "execution_count": 7,
   "metadata": {},
   "outputs": [],
   "source": [
    "xr_pred['IFS-EPS raw'] = xr.Dataset({\n",
    "    'mean': data_module.ds_test.ifs.sel(var_name='t2m').mean('ensemble')-273.15,\n",
    "    'stddev': data_module.ds_test.ifs.sel(var_name='t2m').std('ensemble', ddof=1)\n",
    "})"
   ]
  },
  {
   "cell_type": "code",
   "execution_count": 8,
   "metadata": {},
   "outputs": [],
   "source": [
    "xr_pred['Climatology'] = xr.Dataset({\n",
    "    'mean': data_module.ds_train.dataset.era5.mean('time').expand_dims('time', axis=0),\n",
    "    'stddev': data_module.ds_train.dataset.era5.std('time', ddof=1).expand_dims('time', axis=0)\n",
    "})"
   ]
  },
  {
   "cell_type": "code",
   "execution_count": 9,
   "metadata": {},
   "outputs": [],
   "source": [
    "def estimate_score(xr_prediction: xr.Dataset, xr_target: xr.DataArray):\n",
    "    prediction = (\n",
    "        torch.from_numpy(xr_prediction['mean'].values),\n",
    "        torch.from_numpy(xr_prediction['stddev'].values),\n",
    "    )\n",
    "    target = torch.from_numpy(xr_target.values)\n",
    "    score = {metric_name: metric_func(prediction, target).mean().item() for metric_name, metric_func in metrics.items()}\n",
    "    return score"
   ]
  },
  {
   "cell_type": "code",
   "execution_count": 10,
   "metadata": {},
   "outputs": [
    {
     "name": "stderr",
     "output_type": "stream",
     "text": [
      "<ipython-input-9-c25355b03834>:3: UserWarning: The given NumPy array is not writeable, and PyTorch does not support non-writeable tensors. This means you can write to the underlying (supposedly non-writeable) NumPy array using the tensor. You may want to copy the array to protect its data or make it writeable before converting it to a tensor. This type of warning will be suppressed for the rest of this program. (Triggered internally at  /opt/conda/conda-bld/pytorch_1616554788289/work/torch/csrc/utils/tensor_numpy.cpp:143.)\n",
      "  torch.from_numpy(xr_prediction['mean'].values),\n"
     ]
    }
   ],
   "source": [
    "scores = {\n",
    "    exp_name: estimate_score(exp_pred, data_module.ds_test.era5)\n",
    "    for exp_name, exp_pred in xr_pred.items()\n",
    "}"
   ]
  },
  {
   "cell_type": "code",
   "execution_count": 11,
   "metadata": {},
   "outputs": [],
   "source": [
    "pd_scores = pd.DataFrame(scores).T\n",
    "pd_scores['rmse'] = np.sqrt(pd_scores['mse'])\n",
    "pd_scores['spread'] = np.sqrt(pd_scores['var'])\n",
    "pd_scores['ratio'] = pd_scores['var']/pd_scores['mse']"
   ]
  },
  {
   "cell_type": "code",
   "execution_count": 12,
   "metadata": {},
   "outputs": [
    {
     "data": {
      "text/html": [
       "<div>\n",
       "<style scoped>\n",
       "    .dataframe tbody tr th:only-of-type {\n",
       "        vertical-align: middle;\n",
       "    }\n",
       "\n",
       "    .dataframe tbody tr th {\n",
       "        vertical-align: top;\n",
       "    }\n",
       "\n",
       "    .dataframe thead th {\n",
       "        text-align: right;\n",
       "    }\n",
       "</style>\n",
       "<table border=\"1\" class=\"dataframe\">\n",
       "  <thead>\n",
       "    <tr style=\"text-align: right;\">\n",
       "      <th></th>\n",
       "      <th>crps</th>\n",
       "      <th>mse</th>\n",
       "      <th>var</th>\n",
       "      <th>rmse</th>\n",
       "      <th>spread</th>\n",
       "      <th>ratio</th>\n",
       "    </tr>\n",
       "  </thead>\n",
       "  <tbody>\n",
       "    <tr>\n",
       "      <th>Transformer (10)</th>\n",
       "      <td>0.416692</td>\n",
       "      <td>0.819092</td>\n",
       "      <td>0.829157</td>\n",
       "      <td>0.905037</td>\n",
       "      <td>0.910581</td>\n",
       "      <td>1.012288</td>\n",
       "    </tr>\n",
       "    <tr>\n",
       "      <th>Transformer (20)</th>\n",
       "      <td>0.422254</td>\n",
       "      <td>0.842562</td>\n",
       "      <td>0.812923</td>\n",
       "      <td>0.917912</td>\n",
       "      <td>0.901622</td>\n",
       "      <td>0.964823</td>\n",
       "    </tr>\n",
       "    <tr>\n",
       "      <th>Transformer (50)</th>\n",
       "      <td>0.424164</td>\n",
       "      <td>0.850280</td>\n",
       "      <td>0.796596</td>\n",
       "      <td>0.922106</td>\n",
       "      <td>0.892522</td>\n",
       "      <td>0.936863</td>\n",
       "    </tr>\n",
       "    <tr>\n",
       "      <th>PPNN (0)</th>\n",
       "      <td>0.439223</td>\n",
       "      <td>0.921808</td>\n",
       "      <td>0.760306</td>\n",
       "      <td>0.960108</td>\n",
       "      <td>0.871955</td>\n",
       "      <td>0.824799</td>\n",
       "    </tr>\n",
       "    <tr>\n",
       "      <th>PPNN (1)</th>\n",
       "      <td>0.431505</td>\n",
       "      <td>0.898492</td>\n",
       "      <td>0.753128</td>\n",
       "      <td>0.947888</td>\n",
       "      <td>0.867829</td>\n",
       "      <td>0.838213</td>\n",
       "    </tr>\n",
       "    <tr>\n",
       "      <th>PPNN (5)</th>\n",
       "      <td>0.418676</td>\n",
       "      <td>0.861397</td>\n",
       "      <td>0.764614</td>\n",
       "      <td>0.928115</td>\n",
       "      <td>0.874422</td>\n",
       "      <td>0.887644</td>\n",
       "    </tr>\n",
       "    <tr>\n",
       "      <th>Direct (1)</th>\n",
       "      <td>0.445394</td>\n",
       "      <td>0.909814</td>\n",
       "      <td>0.493260</td>\n",
       "      <td>0.953842</td>\n",
       "      <td>0.702325</td>\n",
       "      <td>0.542155</td>\n",
       "    </tr>\n",
       "    <tr>\n",
       "      <th>Direct (5)</th>\n",
       "      <td>0.446664</td>\n",
       "      <td>0.915982</td>\n",
       "      <td>0.495137</td>\n",
       "      <td>0.957069</td>\n",
       "      <td>0.703660</td>\n",
       "      <td>0.540554</td>\n",
       "    </tr>\n",
       "    <tr>\n",
       "      <th>Transformer (1)</th>\n",
       "      <td>0.421108</td>\n",
       "      <td>0.835182</td>\n",
       "      <td>0.832842</td>\n",
       "      <td>0.913883</td>\n",
       "      <td>0.912602</td>\n",
       "      <td>0.997198</td>\n",
       "    </tr>\n",
       "    <tr>\n",
       "      <th>Transformer (2)</th>\n",
       "      <td>0.420886</td>\n",
       "      <td>0.835741</td>\n",
       "      <td>0.837196</td>\n",
       "      <td>0.914189</td>\n",
       "      <td>0.914984</td>\n",
       "      <td>1.001741</td>\n",
       "    </tr>\n",
       "    <tr>\n",
       "      <th>Transformer (3)</th>\n",
       "      <td>0.419555</td>\n",
       "      <td>0.835535</td>\n",
       "      <td>0.840466</td>\n",
       "      <td>0.914076</td>\n",
       "      <td>0.916769</td>\n",
       "      <td>1.005902</td>\n",
       "    </tr>\n",
       "    <tr>\n",
       "      <th>Transformer (4)</th>\n",
       "      <td>0.418180</td>\n",
       "      <td>0.829096</td>\n",
       "      <td>0.846997</td>\n",
       "      <td>0.910547</td>\n",
       "      <td>0.920324</td>\n",
       "      <td>1.021591</td>\n",
       "    </tr>\n",
       "    <tr>\n",
       "      <th>Transformer (5)</th>\n",
       "      <td>0.410285</td>\n",
       "      <td>0.805471</td>\n",
       "      <td>0.806216</td>\n",
       "      <td>0.897480</td>\n",
       "      <td>0.897895</td>\n",
       "      <td>1.000925</td>\n",
       "    </tr>\n",
       "    <tr>\n",
       "      <th>IFS-EPS raw</th>\n",
       "      <td>0.516339</td>\n",
       "      <td>1.250201</td>\n",
       "      <td>0.529759</td>\n",
       "      <td>1.118124</td>\n",
       "      <td>0.727845</td>\n",
       "      <td>0.423739</td>\n",
       "    </tr>\n",
       "    <tr>\n",
       "      <th>Climatology</th>\n",
       "      <td>2.600638</td>\n",
       "      <td>37.415382</td>\n",
       "      <td>36.634859</td>\n",
       "      <td>6.116811</td>\n",
       "      <td>6.052674</td>\n",
       "      <td>0.979139</td>\n",
       "    </tr>\n",
       "  </tbody>\n",
       "</table>\n",
       "</div>"
      ],
      "text/plain": [
       "                      crps        mse        var      rmse    spread     ratio\n",
       "Transformer (10)  0.416692   0.819092   0.829157  0.905037  0.910581  1.012288\n",
       "Transformer (20)  0.422254   0.842562   0.812923  0.917912  0.901622  0.964823\n",
       "Transformer (50)  0.424164   0.850280   0.796596  0.922106  0.892522  0.936863\n",
       "PPNN (0)          0.439223   0.921808   0.760306  0.960108  0.871955  0.824799\n",
       "PPNN (1)          0.431505   0.898492   0.753128  0.947888  0.867829  0.838213\n",
       "PPNN (5)          0.418676   0.861397   0.764614  0.928115  0.874422  0.887644\n",
       "Direct (1)        0.445394   0.909814   0.493260  0.953842  0.702325  0.542155\n",
       "Direct (5)        0.446664   0.915982   0.495137  0.957069  0.703660  0.540554\n",
       "Transformer (1)   0.421108   0.835182   0.832842  0.913883  0.912602  0.997198\n",
       "Transformer (2)   0.420886   0.835741   0.837196  0.914189  0.914984  1.001741\n",
       "Transformer (3)   0.419555   0.835535   0.840466  0.914076  0.916769  1.005902\n",
       "Transformer (4)   0.418180   0.829096   0.846997  0.910547  0.920324  1.021591\n",
       "Transformer (5)   0.410285   0.805471   0.806216  0.897480  0.897895  1.000925\n",
       "IFS-EPS raw       0.516339   1.250201   0.529759  1.118124  0.727845  0.423739\n",
       "Climatology       2.600638  37.415382  36.634859  6.116811  6.052674  0.979139"
      ]
     },
     "execution_count": 12,
     "metadata": {},
     "output_type": "execute_result"
    }
   ],
   "source": [
    "pd_scores"
   ]
  },
  {
   "cell_type": "code",
   "execution_count": 13,
   "metadata": {},
   "outputs": [
    {
     "data": {
      "text/plain": [
       "'\\\\begin{tabular}{lrrr}\\n\\\\toprule\\n{} &  crps &  rmse &  spread \\\\\\\\\\n\\\\midrule\\nTransformer (10) &  0.42 &  0.91 &    0.91 \\\\\\\\\\nTransformer (20) &  0.42 &  0.92 &    0.90 \\\\\\\\\\nTransformer (50) &  0.42 &  0.92 &    0.89 \\\\\\\\\\nPPNN (0)         &  0.44 &  0.96 &    0.87 \\\\\\\\\\nPPNN (1)         &  0.43 &  0.95 &    0.87 \\\\\\\\\\nPPNN (5)         &  0.42 &  0.93 &    0.87 \\\\\\\\\\nDirect (1)       &  0.45 &  0.95 &    0.70 \\\\\\\\\\nDirect (5)       &  0.45 &  0.96 &    0.70 \\\\\\\\\\nTransformer (1)  &  0.42 &  0.91 &    0.91 \\\\\\\\\\nTransformer (2)  &  0.42 &  0.91 &    0.91 \\\\\\\\\\nTransformer (3)  &  0.42 &  0.91 &    0.92 \\\\\\\\\\nTransformer (4)  &  0.42 &  0.91 &    0.92 \\\\\\\\\\nTransformer (5)  &  0.41 &  0.90 &    0.90 \\\\\\\\\\nIFS-EPS raw      &  0.52 &  1.12 &    0.73 \\\\\\\\\\nClimatology      &  2.60 &  6.12 &    6.05 \\\\\\\\\\n\\\\bottomrule\\n\\\\end{tabular}\\n'"
      ]
     },
     "execution_count": 13,
     "metadata": {},
     "output_type": "execute_result"
    }
   ],
   "source": [
    "pd_scores.round(2)[['crps', 'rmse', 'spread']].to_latex()"
   ]
  },
  {
   "cell_type": "code",
   "execution_count": null,
   "metadata": {},
   "outputs": [],
   "source": []
  }
 ],
 "metadata": {
  "kernelspec": {
   "display_name": "Python [conda env:ensemble_transformer]",
   "language": "python",
   "name": "conda-env-ensemble_transformer-py"
  },
  "language_info": {
   "codemirror_mode": {
    "name": "ipython",
    "version": 3
   },
   "file_extension": ".py",
   "mimetype": "text/x-python",
   "name": "python",
   "nbconvert_exporter": "python",
   "pygments_lexer": "ipython3",
   "version": "3.8.5"
  }
 },
 "nbformat": 4,
 "nbformat_minor": 4
}
