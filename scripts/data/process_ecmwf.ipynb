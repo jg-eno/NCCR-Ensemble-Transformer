{
 "cells": [
  {
   "cell_type": "code",
   "execution_count": 1,
   "metadata": {},
   "outputs": [],
   "source": [
    "import xarray as xr\n",
    "import distributed\n"
   ]
  },
  {
   "cell_type": "code",
   "execution_count": 44,
   "metadata": {},
   "outputs": [
    {
     "name": "stderr",
     "output_type": "stream",
     "text": [
      "c:\\Users\\haris\\miniconda3\\envs\\torch\\lib\\site-packages\\distributed\\node.py:182: UserWarning: Port 8787 is already in use.\n",
      "Perhaps you already have a cluster running?\n",
      "Hosting the HTTP server on port 54717 instead\n",
      "  warnings.warn(\n",
      "2024-06-10 15:36:36,138 - distributed.deploy.spec - WARNING - Cluster closed without starting up\n"
     ]
    },
    {
     "ename": "RuntimeError",
     "evalue": "Cluster failed to start: [Errno 2] No such file or directory: 'C:\\\\Users\\\\haris\\\\miniconda3\\\\envs\\\\torch\\\\Lib\\\\site-packages\\\\bokeh\\\\server\\\\views\\\\bokeh.ico'",
     "output_type": "error",
     "traceback": [
      "\u001b[1;31m---------------------------------------------------------------------------\u001b[0m",
      "\u001b[1;31mFileNotFoundError\u001b[0m                         Traceback (most recent call last)",
      "File \u001b[1;32mc:\\Users\\haris\\miniconda3\\envs\\torch\\lib\\site-packages\\distributed\\deploy\\spec.py:324\u001b[0m, in \u001b[0;36mSpecCluster._start\u001b[1;34m(self)\u001b[0m\n\u001b[0;32m    323\u001b[0m     \u001b[38;5;28mcls\u001b[39m \u001b[38;5;241m=\u001b[39m import_term(\u001b[38;5;28mcls\u001b[39m)\n\u001b[1;32m--> 324\u001b[0m \u001b[38;5;28mself\u001b[39m\u001b[38;5;241m.\u001b[39mscheduler \u001b[38;5;241m=\u001b[39m \u001b[38;5;28mcls\u001b[39m(\u001b[38;5;241m*\u001b[39m\u001b[38;5;241m*\u001b[39m\u001b[38;5;28mself\u001b[39m\u001b[38;5;241m.\u001b[39mscheduler_spec\u001b[38;5;241m.\u001b[39mget(\u001b[38;5;124m\"\u001b[39m\u001b[38;5;124moptions\u001b[39m\u001b[38;5;124m\"\u001b[39m, {}))\n\u001b[0;32m    325\u001b[0m \u001b[38;5;28mself\u001b[39m\u001b[38;5;241m.\u001b[39mscheduler \u001b[38;5;241m=\u001b[39m \u001b[38;5;28;01mawait\u001b[39;00m \u001b[38;5;28mself\u001b[39m\u001b[38;5;241m.\u001b[39mscheduler\n",
      "File \u001b[1;32mc:\\Users\\haris\\miniconda3\\envs\\torch\\lib\\site-packages\\distributed\\scheduler.py:3660\u001b[0m, in \u001b[0;36mScheduler.__init__\u001b[1;34m(self, loop, delete_interval, synchronize_worker_interval, services, service_kwargs, allowed_failures, extensions, validate, scheduler_file, security, worker_ttl, idle_timeout, interface, host, port, protocol, dashboard_address, dashboard, http_prefix, preload, preload_argv, plugins, contact_address, transition_counter_max, jupyter, **kwargs)\u001b[0m\n\u001b[0;32m   3659\u001b[0m \u001b[38;5;28;01mif\u001b[39;00m show_dashboard:\n\u001b[1;32m-> 3660\u001b[0m     \u001b[43mdistributed\u001b[49m\u001b[38;5;241;43m.\u001b[39;49m\u001b[43mdashboard\u001b[49m\u001b[38;5;241;43m.\u001b[39;49m\u001b[43mscheduler\u001b[49m\u001b[38;5;241;43m.\u001b[39;49m\u001b[43mconnect\u001b[49m\u001b[43m(\u001b[49m\n\u001b[0;32m   3661\u001b[0m \u001b[43m        \u001b[49m\u001b[38;5;28;43mself\u001b[39;49m\u001b[38;5;241;43m.\u001b[39;49m\u001b[43mhttp_application\u001b[49m\u001b[43m,\u001b[49m\u001b[43m \u001b[49m\u001b[38;5;28;43mself\u001b[39;49m\u001b[38;5;241;43m.\u001b[39;49m\u001b[43mhttp_server\u001b[49m\u001b[43m,\u001b[49m\u001b[43m \u001b[49m\u001b[38;5;28;43mself\u001b[39;49m\u001b[43m,\u001b[49m\u001b[43m \u001b[49m\u001b[43mprefix\u001b[49m\u001b[38;5;241;43m=\u001b[39;49m\u001b[43mhttp_prefix\u001b[49m\n\u001b[0;32m   3662\u001b[0m \u001b[43m    \u001b[49m\u001b[43m)\u001b[49m\n\u001b[0;32m   3663\u001b[0m scheduler \u001b[38;5;241m=\u001b[39m \u001b[38;5;28mself\u001b[39m\n",
      "File \u001b[1;32mc:\\Users\\haris\\miniconda3\\envs\\torch\\lib\\site-packages\\distributed\\dashboard\\scheduler.py:166\u001b[0m, in \u001b[0;36mconnect\u001b[1;34m(application, http_server, scheduler, prefix)\u001b[0m\n\u001b[0;32m    165\u001b[0m \u001b[38;5;28;01mdef\u001b[39;00m \u001b[38;5;21mconnect\u001b[39m(application, http_server, scheduler, prefix\u001b[38;5;241m=\u001b[39m\u001b[38;5;124m\"\u001b[39m\u001b[38;5;124m\"\u001b[39m):\n\u001b[1;32m--> 166\u001b[0m     bokeh_app \u001b[38;5;241m=\u001b[39m \u001b[43mBokehApplication\u001b[49m\u001b[43m(\u001b[49m\n\u001b[0;32m    167\u001b[0m \u001b[43m        \u001b[49m\u001b[43mapplications\u001b[49m\u001b[43m,\u001b[49m\n\u001b[0;32m    168\u001b[0m \u001b[43m        \u001b[49m\u001b[43mscheduler\u001b[49m\u001b[43m,\u001b[49m\n\u001b[0;32m    169\u001b[0m \u001b[43m        \u001b[49m\u001b[43mprefix\u001b[49m\u001b[38;5;241;43m=\u001b[39;49m\u001b[43mprefix\u001b[49m\u001b[43m,\u001b[49m\n\u001b[0;32m    170\u001b[0m \u001b[43m        \u001b[49m\u001b[43mtemplate_variables\u001b[49m\u001b[38;5;241;43m=\u001b[39;49m\u001b[43mtemplate_variables\u001b[49m\u001b[43m(\u001b[49m\u001b[43mscheduler\u001b[49m\u001b[43m)\u001b[49m\u001b[43m,\u001b[49m\n\u001b[0;32m    171\u001b[0m \u001b[43m    \u001b[49m\u001b[43m)\u001b[49m\n\u001b[0;32m    172\u001b[0m     application\u001b[38;5;241m.\u001b[39madd_application(bokeh_app)\n",
      "File \u001b[1;32mc:\\Users\\haris\\miniconda3\\envs\\torch\\lib\\site-packages\\distributed\\dashboard\\core.py:59\u001b[0m, in \u001b[0;36mBokehApplication\u001b[1;34m(applications, server, prefix, template_variables)\u001b[0m\n\u001b[0;32m     55\u001b[0m extra_websocket_origins \u001b[38;5;241m=\u001b[39m create_hosts_allowlist(\n\u001b[0;32m     56\u001b[0m     kwargs\u001b[38;5;241m.\u001b[39mpop(\u001b[38;5;124m\"\u001b[39m\u001b[38;5;124mallow_websocket_origin\u001b[39m\u001b[38;5;124m\"\u001b[39m), server\u001b[38;5;241m.\u001b[39mhttp_server\u001b[38;5;241m.\u001b[39mport\n\u001b[0;32m     57\u001b[0m )\n\u001b[1;32m---> 59\u001b[0m \u001b[38;5;28;01mreturn\u001b[39;00m DaskBokehTornado(\n\u001b[0;32m     60\u001b[0m     apps,\n\u001b[0;32m     61\u001b[0m     prefix\u001b[38;5;241m=\u001b[39mprefix,\n\u001b[0;32m     62\u001b[0m     use_index\u001b[38;5;241m=\u001b[39m\u001b[38;5;28;01mFalse\u001b[39;00m,\n\u001b[0;32m     63\u001b[0m     extra_websocket_origins\u001b[38;5;241m=\u001b[39mextra_websocket_origins,\n\u001b[0;32m     64\u001b[0m     absolute_url\u001b[38;5;241m=\u001b[39m\u001b[38;5;124m\"\u001b[39m\u001b[38;5;124m\"\u001b[39m,\n\u001b[0;32m     65\u001b[0m     \u001b[38;5;241m*\u001b[39m\u001b[38;5;241m*\u001b[39mkwargs,\n\u001b[0;32m     66\u001b[0m )\n",
      "File \u001b[1;32mc:\\Users\\haris\\miniconda3\\envs\\torch\\lib\\site-packages\\bokeh\\server\\tornado.py:407\u001b[0m, in \u001b[0;36m__init__\u001b[1;34m(self, applications, absolute_url, prefix, extra_websocket_origins, extra_patterns, secret_key, sign_sessions, generate_session_ids, keep_alive_milliseconds, check_unused_sessions_milliseconds, unused_session_lifetime_milliseconds, stats_log_frequency_milliseconds, mem_log_frequency_milliseconds, use_index, redirect_root, websocket_max_message_size_bytes, websocket_compression_level, websocket_compression_mem_level, ico_path, index, auth_provider, xsrf_cookies, include_headers, include_cookies, exclude_headers, exclude_cookies, session_token_expiration, **kwargs)\u001b[0m\n\u001b[0;32m    406\u001b[0m \u001b[38;5;28;01mfor\u001b[39;00m app_context \u001b[38;5;129;01min\u001b[39;00m \u001b[38;5;28mself\u001b[39m\u001b[38;5;241m.\u001b[39m_applications\u001b[38;5;241m.\u001b[39mvalues():\n\u001b[1;32m--> 407\u001b[0m     app_context\u001b[38;5;241m.\u001b[39m_loop \u001b[38;5;241m=\u001b[39m \u001b[38;5;28mself\u001b[39m\u001b[38;5;241m.\u001b[39m_loop\n\u001b[0;32m    409\u001b[0m \u001b[38;5;28mself\u001b[39m\u001b[38;5;241m.\u001b[39m_clients \u001b[38;5;241m=\u001b[39m \u001b[38;5;28mset\u001b[39m()\n",
      "\u001b[1;31mFileNotFoundError\u001b[0m: [Errno 2] No such file or directory: 'C:\\\\Users\\\\haris\\\\miniconda3\\\\envs\\\\torch\\\\Lib\\\\site-packages\\\\bokeh\\\\server\\\\views\\\\bokeh.ico'",
      "\nThe above exception was the direct cause of the following exception:\n",
      "\u001b[1;31mRuntimeError\u001b[0m                              Traceback (most recent call last)",
      "Cell \u001b[1;32mIn[44], line 1\u001b[0m\n\u001b[1;32m----> 1\u001b[0m cluster \u001b[38;5;241m=\u001b[39m \u001b[43mdistributed\u001b[49m\u001b[38;5;241;43m.\u001b[39;49m\u001b[43mLocalCluster\u001b[49m\u001b[43m(\u001b[49m\u001b[43mn_workers\u001b[49m\u001b[38;5;241;43m=\u001b[39;49m\u001b[38;5;241;43m4\u001b[39;49m\u001b[43m,\u001b[49m\u001b[43m \u001b[49m\u001b[43mthreads_per_worker\u001b[49m\u001b[38;5;241;43m=\u001b[39;49m\u001b[38;5;241;43m1\u001b[39;49m\u001b[43m,\u001b[49m\u001b[43m \u001b[49m\u001b[43mlocal_directory\u001b[49m\u001b[38;5;241;43m=\u001b[39;49m\u001b[38;5;124;43m'\u001b[39;49m\u001b[38;5;124;43m/tmp\u001b[39;49m\u001b[38;5;124;43m'\u001b[39;49m\u001b[43m)\u001b[49m\n\u001b[0;32m      2\u001b[0m client \u001b[38;5;241m=\u001b[39m distributed\u001b[38;5;241m.\u001b[39mClient(cluster)\n\u001b[0;32m      3\u001b[0m client\n",
      "File \u001b[1;32mc:\\Users\\haris\\miniconda3\\envs\\torch\\lib\\site-packages\\distributed\\deploy\\local.py:253\u001b[0m, in \u001b[0;36mLocalCluster.__init__\u001b[1;34m(self, name, n_workers, threads_per_worker, processes, loop, start, host, ip, scheduler_port, silence_logs, dashboard_address, worker_dashboard_address, diagnostics_port, services, worker_services, service_kwargs, asynchronous, security, protocol, blocked_handlers, interface, worker_class, scheduler_kwargs, scheduler_sync_interval, **worker_kwargs)\u001b[0m\n\u001b[0;32m    250\u001b[0m worker \u001b[38;5;241m=\u001b[39m {\u001b[38;5;124m\"\u001b[39m\u001b[38;5;124mcls\u001b[39m\u001b[38;5;124m\"\u001b[39m: worker_class, \u001b[38;5;124m\"\u001b[39m\u001b[38;5;124moptions\u001b[39m\u001b[38;5;124m\"\u001b[39m: worker_kwargs}\n\u001b[0;32m    251\u001b[0m workers \u001b[38;5;241m=\u001b[39m {i: worker \u001b[38;5;28;01mfor\u001b[39;00m i \u001b[38;5;129;01min\u001b[39;00m \u001b[38;5;28mrange\u001b[39m(n_workers)}\n\u001b[1;32m--> 253\u001b[0m \u001b[38;5;28;43msuper\u001b[39;49m\u001b[43m(\u001b[49m\u001b[43m)\u001b[49m\u001b[38;5;241;43m.\u001b[39;49m\u001b[38;5;21;43m__init__\u001b[39;49m\u001b[43m(\u001b[49m\n\u001b[0;32m    254\u001b[0m \u001b[43m    \u001b[49m\u001b[43mname\u001b[49m\u001b[38;5;241;43m=\u001b[39;49m\u001b[43mname\u001b[49m\u001b[43m,\u001b[49m\n\u001b[0;32m    255\u001b[0m \u001b[43m    \u001b[49m\u001b[43mscheduler\u001b[49m\u001b[38;5;241;43m=\u001b[39;49m\u001b[43mscheduler\u001b[49m\u001b[43m,\u001b[49m\n\u001b[0;32m    256\u001b[0m \u001b[43m    \u001b[49m\u001b[43mworkers\u001b[49m\u001b[38;5;241;43m=\u001b[39;49m\u001b[43mworkers\u001b[49m\u001b[43m,\u001b[49m\n\u001b[0;32m    257\u001b[0m \u001b[43m    \u001b[49m\u001b[43mworker\u001b[49m\u001b[38;5;241;43m=\u001b[39;49m\u001b[43mworker\u001b[49m\u001b[43m,\u001b[49m\n\u001b[0;32m    258\u001b[0m \u001b[43m    \u001b[49m\u001b[43mloop\u001b[49m\u001b[38;5;241;43m=\u001b[39;49m\u001b[43mloop\u001b[49m\u001b[43m,\u001b[49m\n\u001b[0;32m    259\u001b[0m \u001b[43m    \u001b[49m\u001b[43masynchronous\u001b[49m\u001b[38;5;241;43m=\u001b[39;49m\u001b[43masynchronous\u001b[49m\u001b[43m,\u001b[49m\n\u001b[0;32m    260\u001b[0m \u001b[43m    \u001b[49m\u001b[43msilence_logs\u001b[49m\u001b[38;5;241;43m=\u001b[39;49m\u001b[43msilence_logs\u001b[49m\u001b[43m,\u001b[49m\n\u001b[0;32m    261\u001b[0m \u001b[43m    \u001b[49m\u001b[43msecurity\u001b[49m\u001b[38;5;241;43m=\u001b[39;49m\u001b[43msecurity\u001b[49m\u001b[43m,\u001b[49m\n\u001b[0;32m    262\u001b[0m \u001b[43m    \u001b[49m\u001b[43mscheduler_sync_interval\u001b[49m\u001b[38;5;241;43m=\u001b[39;49m\u001b[43mscheduler_sync_interval\u001b[49m\u001b[43m,\u001b[49m\n\u001b[0;32m    263\u001b[0m \u001b[43m\u001b[49m\u001b[43m)\u001b[49m\n",
      "File \u001b[1;32mc:\\Users\\haris\\miniconda3\\envs\\torch\\lib\\site-packages\\distributed\\deploy\\spec.py:284\u001b[0m, in \u001b[0;36mSpecCluster.__init__\u001b[1;34m(self, workers, scheduler, worker, asynchronous, loop, security, silence_logs, name, shutdown_on_close, scheduler_sync_interval)\u001b[0m\n\u001b[0;32m    282\u001b[0m \u001b[38;5;28;01mif\u001b[39;00m \u001b[38;5;129;01mnot\u001b[39;00m \u001b[38;5;28mself\u001b[39m\u001b[38;5;241m.\u001b[39mcalled_from_running_loop:\n\u001b[0;32m    283\u001b[0m     \u001b[38;5;28mself\u001b[39m\u001b[38;5;241m.\u001b[39m_loop_runner\u001b[38;5;241m.\u001b[39mstart()\n\u001b[1;32m--> 284\u001b[0m     \u001b[38;5;28;43mself\u001b[39;49m\u001b[38;5;241;43m.\u001b[39;49m\u001b[43msync\u001b[49m\u001b[43m(\u001b[49m\u001b[38;5;28;43mself\u001b[39;49m\u001b[38;5;241;43m.\u001b[39;49m\u001b[43m_start\u001b[49m\u001b[43m)\u001b[49m\n\u001b[0;32m    285\u001b[0m     \u001b[38;5;28;01mtry\u001b[39;00m:\n\u001b[0;32m    286\u001b[0m         \u001b[38;5;28mself\u001b[39m\u001b[38;5;241m.\u001b[39msync(\u001b[38;5;28mself\u001b[39m\u001b[38;5;241m.\u001b[39m_correct_state)\n",
      "File \u001b[1;32mc:\\Users\\haris\\miniconda3\\envs\\torch\\lib\\site-packages\\distributed\\utils.py:358\u001b[0m, in \u001b[0;36mSyncMethodMixin.sync\u001b[1;34m(self, func, asynchronous, callback_timeout, *args, **kwargs)\u001b[0m\n\u001b[0;32m    356\u001b[0m     \u001b[38;5;28;01mreturn\u001b[39;00m future\n\u001b[0;32m    357\u001b[0m \u001b[38;5;28;01melse\u001b[39;00m:\n\u001b[1;32m--> 358\u001b[0m     \u001b[38;5;28;01mreturn\u001b[39;00m sync(\n\u001b[0;32m    359\u001b[0m         \u001b[38;5;28mself\u001b[39m\u001b[38;5;241m.\u001b[39mloop, func, \u001b[38;5;241m*\u001b[39margs, callback_timeout\u001b[38;5;241m=\u001b[39mcallback_timeout, \u001b[38;5;241m*\u001b[39m\u001b[38;5;241m*\u001b[39mkwargs\n\u001b[0;32m    360\u001b[0m     )\n",
      "File \u001b[1;32mc:\\Users\\haris\\miniconda3\\envs\\torch\\lib\\site-packages\\distributed\\utils.py:434\u001b[0m, in \u001b[0;36msync\u001b[1;34m(loop, func, callback_timeout, *args, **kwargs)\u001b[0m\n\u001b[0;32m    431\u001b[0m         wait(\u001b[38;5;241m10\u001b[39m)\n\u001b[0;32m    433\u001b[0m \u001b[38;5;28;01mif\u001b[39;00m error \u001b[38;5;129;01mis\u001b[39;00m \u001b[38;5;129;01mnot\u001b[39;00m \u001b[38;5;28;01mNone\u001b[39;00m:\n\u001b[1;32m--> 434\u001b[0m     \u001b[38;5;28;01mraise\u001b[39;00m error\n\u001b[0;32m    435\u001b[0m \u001b[38;5;28;01melse\u001b[39;00m:\n\u001b[0;32m    436\u001b[0m     \u001b[38;5;28;01mreturn\u001b[39;00m result\n",
      "File \u001b[1;32mc:\\Users\\haris\\miniconda3\\envs\\torch\\lib\\site-packages\\distributed\\utils.py:408\u001b[0m, in \u001b[0;36msync.<locals>.f\u001b[1;34m()\u001b[0m\n\u001b[0;32m    406\u001b[0m         awaitable \u001b[38;5;241m=\u001b[39m wait_for(awaitable, timeout)\n\u001b[0;32m    407\u001b[0m     future \u001b[38;5;241m=\u001b[39m asyncio\u001b[38;5;241m.\u001b[39mensure_future(awaitable)\n\u001b[1;32m--> 408\u001b[0m     result \u001b[38;5;241m=\u001b[39m \u001b[38;5;28;01myield\u001b[39;00m future\n\u001b[0;32m    409\u001b[0m \u001b[38;5;28;01mexcept\u001b[39;00m \u001b[38;5;167;01mException\u001b[39;00m \u001b[38;5;28;01mas\u001b[39;00m exception:\n\u001b[0;32m    410\u001b[0m     error \u001b[38;5;241m=\u001b[39m exception\n",
      "File \u001b[1;32mc:\\Users\\haris\\miniconda3\\envs\\torch\\lib\\site-packages\\tornado\\gen.py:767\u001b[0m, in \u001b[0;36mRunner.run\u001b[1;34m(self)\u001b[0m\n\u001b[0;32m    765\u001b[0m \u001b[38;5;28;01mtry\u001b[39;00m:\n\u001b[0;32m    766\u001b[0m     \u001b[38;5;28;01mtry\u001b[39;00m:\n\u001b[1;32m--> 767\u001b[0m         value \u001b[38;5;241m=\u001b[39m \u001b[43mfuture\u001b[49m\u001b[38;5;241;43m.\u001b[39;49m\u001b[43mresult\u001b[49m\u001b[43m(\u001b[49m\u001b[43m)\u001b[49m\n\u001b[0;32m    768\u001b[0m     \u001b[38;5;28;01mexcept\u001b[39;00m \u001b[38;5;167;01mException\u001b[39;00m \u001b[38;5;28;01mas\u001b[39;00m e:\n\u001b[0;32m    769\u001b[0m         \u001b[38;5;66;03m# Save the exception for later. It's important that\u001b[39;00m\n\u001b[0;32m    770\u001b[0m         \u001b[38;5;66;03m# gen.throw() not be called inside this try/except block\u001b[39;00m\n\u001b[0;32m    771\u001b[0m         \u001b[38;5;66;03m# because that makes sys.exc_info behave unexpectedly.\u001b[39;00m\n\u001b[0;32m    772\u001b[0m         exc: Optional[\u001b[38;5;167;01mException\u001b[39;00m] \u001b[38;5;241m=\u001b[39m e\n",
      "File \u001b[1;32mc:\\Users\\haris\\miniconda3\\envs\\torch\\lib\\site-packages\\distributed\\deploy\\spec.py:335\u001b[0m, in \u001b[0;36mSpecCluster._start\u001b[1;34m(self)\u001b[0m\n\u001b[0;32m    333\u001b[0m \u001b[38;5;28mself\u001b[39m\u001b[38;5;241m.\u001b[39mstatus \u001b[38;5;241m=\u001b[39m Status\u001b[38;5;241m.\u001b[39mfailed\n\u001b[0;32m    334\u001b[0m \u001b[38;5;28;01mawait\u001b[39;00m \u001b[38;5;28mself\u001b[39m\u001b[38;5;241m.\u001b[39m_close()\n\u001b[1;32m--> 335\u001b[0m \u001b[38;5;28;01mraise\u001b[39;00m \u001b[38;5;167;01mRuntimeError\u001b[39;00m(\u001b[38;5;124mf\u001b[39m\u001b[38;5;124m\"\u001b[39m\u001b[38;5;124mCluster failed to start: \u001b[39m\u001b[38;5;132;01m{\u001b[39;00me\u001b[38;5;132;01m}\u001b[39;00m\u001b[38;5;124m\"\u001b[39m) \u001b[38;5;28;01mfrom\u001b[39;00m \u001b[38;5;21;01me\u001b[39;00m\n",
      "\u001b[1;31mRuntimeError\u001b[0m: Cluster failed to start: [Errno 2] No such file or directory: 'C:\\\\Users\\\\haris\\\\miniconda3\\\\envs\\\\torch\\\\Lib\\\\site-packages\\\\bokeh\\\\server\\\\views\\\\bokeh.ico'"
     ]
    }
   ],
   "source": [
    "cluster = distributed.LocalCluster(n_workers=4, threads_per_worker=1, local_directory='/tmp')\n",
    "client = distributed.Client(cluster)\n",
    "client"
   ]
  },
  {
   "cell_type": "markdown",
   "metadata": {},
   "source": [
    "# Load IFS data"
   ]
  },
  {
   "cell_type": "code",
   "execution_count": 2,
   "metadata": {},
   "outputs": [],
   "source": [
    "ds_ifs_pl = xr.open_dataset(r'D:\\Projects\\NIOT\\v1\\ensemble_transformer\\data\\pl.nc',chunks={'time': 2})\n",
    "ds_ifs_sfc = xr.open_dataset(r'D:\\Projects\\NIOT\\v1\\ensemble_transformer\\data\\sfc.nc', chunks={'time': 2})"
   ]
  },
  {
   "cell_type": "code",
   "execution_count": 4,
   "metadata": {},
   "outputs": [],
   "source": [
    "ds_ifs_gh = ds_ifs_pl['gh'].to_dataset('level')\n",
    "ds_ifs_gh = ds_ifs_gh.rename({500: 'gh_500', 850: 'gh_850'})"
   ]
  },
  {
   "cell_type": "code",
   "execution_count": 5,
   "metadata": {},
   "outputs": [],
   "source": [
    "ds_ifs_t = ds_ifs_pl['t'].to_dataset(\"level\")\n",
    "ds_ifs_t = ds_ifs_t.rename({500: 't_500', 850: 't_850'})"
   ]
  },
  {
   "cell_type": "code",
   "execution_count": 6,
   "metadata": {},
   "outputs": [],
   "source": [
    "ds_ifs_merged = xr.merge([ds_ifs_sfc, ds_ifs_t, ds_ifs_gh])"
   ]
  },
  {
   "cell_type": "code",
   "execution_count": 7,
   "metadata": {},
   "outputs": [],
   "source": [
    "ds_ifs_merged = ds_ifs_merged.isel(latitude=slice(None, None, -1))\n",
    "ds_ifs_merged = ds_ifs_merged.rename({'number': 'ensemble'})"
   ]
  },
  {
   "cell_type": "code",
   "execution_count": 8,
   "metadata": {},
   "outputs": [
    {
     "data": {
      "text/plain": [
       "<xarray.backends.zarr.ZarrStore at 0x1bcec997c40>"
      ]
     },
     "execution_count": 8,
     "metadata": {},
     "output_type": "execute_result"
    }
   ],
   "source": [
    "ds_ifs_train = ds_ifs_merged.sel()\n",
    "ds_ifs_train.to_zarr(\n",
    "    '../data/processed/ifs/ds_train',\n",
    "    encoding={\n",
    "        't2m': {'dtype': 'float32', 'scale_factor': 1.0, 'add_offset': 0.0},\n",
    "        't_500': {'dtype': 'float32', 'scale_factor': 1.0, 'add_offset': 0.0},\n",
    "        't_850': {'dtype': 'float32', 'scale_factor': 1.0, 'add_offset': 0.0},\n",
    "        'gh_500': {'dtype': 'float32', 'scale_factor': 1.0, 'add_offset': 0.0},\n",
    "        'gh_850': {'dtype': 'float32', 'scale_factor': 1.0, 'add_offset': 0.0},\n",
    "    }\n",
    ")"
   ]
  },
  {
   "cell_type": "code",
   "execution_count": 9,
   "metadata": {},
   "outputs": [
    {
     "data": {
      "text/plain": [
       "<xarray.backends.zarr.ZarrStore at 0x1bcec92eca0>"
      ]
     },
     "execution_count": 9,
     "metadata": {},
     "output_type": "execute_result"
    }
   ],
   "source": [
    "ds_ifs_test = ds_ifs_merged.sel()\n",
    "ds_ifs_test.to_zarr(\n",
    "    '../data/processed/ifs/ds_test',\n",
    "    encoding={\n",
    "        't2m': {'dtype': 'float32', 'scale_factor': 1.0, 'add_offset': 0.0},\n",
    "        't_500': {'dtype': 'float32', 'scale_factor': 1.0, 'add_offset': 0.0},\n",
    "        't_850': {'dtype': 'float32', 'scale_factor': 1.0, 'add_offset': 0.0},\n",
    "        'gh_500': {'dtype': 'float32', 'scale_factor': 1.0, 'add_offset': 0.0},\n",
    "        'gh_850': {'dtype': 'float32', 'scale_factor': 1.0, 'add_offset': 0.0},\n",
    "    }\n",
    ")"
   ]
  },
  {
   "cell_type": "code",
   "execution_count": null,
   "metadata": {},
   "outputs": [],
   "source": []
  }
 ],
 "metadata": {
  "kernelspec": {
   "display_name": "torch",
   "language": "python",
   "name": "python3"
  },
  "language_info": {
   "codemirror_mode": {
    "name": "ipython",
    "version": 3
   },
   "file_extension": ".py",
   "mimetype": "text/x-python",
   "name": "python",
   "nbconvert_exporter": "python",
   "pygments_lexer": "ipython3",
   "version": "3.9.18"
  }
 },
 "nbformat": 4,
 "nbformat_minor": 4
}
